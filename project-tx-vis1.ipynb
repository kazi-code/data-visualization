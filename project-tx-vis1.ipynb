{
 "cells": [
  {
   "cell_type": "code",
   "execution_count": 1,
   "metadata": {},
   "outputs": [],
   "source": [
    "import pandas as pd\n",
    "import altair as alt\n",
    "df = pd.read_excel('SeekUT_TexasData_2020.xlsx')"
   ]
  },
  {
   "cell_type": "code",
   "execution_count": 2,
   "metadata": {},
   "outputs": [
    {
     "data": {
      "text/plain": [
       "inst_name\n",
       "UT Arlington                              40381.0\n",
       "UT Austin                                 39658.0\n",
       "UT Dallas                                 45157.5\n",
       "UT El Paso                                29064.0\n",
       "UT Health Science Center - Houston        66993.5\n",
       "UT Health Science Center - San Antonio    59003.0\n",
       "UT MD Anderson Cancer Center              60165.5\n",
       "UT Medical Branch - Galveston             60057.0\n",
       "UT Permian Basin                          48747.5\n",
       "UT Rio Grande Valley                      32839.0\n",
       "UT San Antonio                            37372.0\n",
       "UT Southwestern Medical Center                NaN\n",
       "UT Tyler                                  36521.0\n",
       "Name: Year1Wage_Median, dtype: float64"
      ]
     },
     "execution_count": 2,
     "metadata": {},
     "output_type": "execute_result"
    }
   ],
   "source": [
    "df = df[ df['degree_level'] == 'Baccalaureate']\n",
    "df.groupby('inst_name')['Year1Wage_Median'].median()"
   ]
  },
  {
   "cell_type": "code",
   "execution_count": 3,
   "metadata": {},
   "outputs": [],
   "source": [
    "df_yr1 = df.groupby('inst_name')['Year1Wage_Median'].median()\n",
    "df_yr5 = df.groupby('inst_name')['Year5Wage_Median'].median()\n",
    "df_yr10 = df.groupby('inst_name')['Year10Wage_Median'].median()"
   ]
  },
  {
   "cell_type": "code",
   "execution_count": 4,
   "metadata": {},
   "outputs": [],
   "source": [
    "summary_df = pd.concat([df_yr1, df_yr5, df_yr10], axis= 1)\n",
    "summary_df = summary_df.reset_index()"
   ]
  },
  {
   "cell_type": "code",
   "execution_count": 5,
   "metadata": {},
   "outputs": [
    {
     "data": {
      "text/html": [
       "<div>\n",
       "<style scoped>\n",
       "    .dataframe tbody tr th:only-of-type {\n",
       "        vertical-align: middle;\n",
       "    }\n",
       "\n",
       "    .dataframe tbody tr th {\n",
       "        vertical-align: top;\n",
       "    }\n",
       "\n",
       "    .dataframe thead th {\n",
       "        text-align: right;\n",
       "    }\n",
       "</style>\n",
       "<table border=\"1\" class=\"dataframe\">\n",
       "  <thead>\n",
       "    <tr style=\"text-align: right;\">\n",
       "      <th></th>\n",
       "      <th>inst_name</th>\n",
       "      <th>CIP6Title</th>\n",
       "      <th>Year1Wage_Median</th>\n",
       "      <th>Year5Wage_Median</th>\n",
       "      <th>Year10Wage_Median</th>\n",
       "    </tr>\n",
       "  </thead>\n",
       "  <tbody>\n",
       "    <tr>\n",
       "      <th>0</th>\n",
       "      <td>UT Arlington</td>\n",
       "      <td>Environmental Science</td>\n",
       "      <td>37991.0</td>\n",
       "      <td>NaN</td>\n",
       "      <td>NaN</td>\n",
       "    </tr>\n",
       "    <tr>\n",
       "      <th>1</th>\n",
       "      <td>UT Arlington</td>\n",
       "      <td>Architecture</td>\n",
       "      <td>42205.0</td>\n",
       "      <td>60935.0</td>\n",
       "      <td>74148.0</td>\n",
       "    </tr>\n",
       "    <tr>\n",
       "      <th>2</th>\n",
       "      <td>UT Arlington</td>\n",
       "      <td>Interior Architecture</td>\n",
       "      <td>39525.0</td>\n",
       "      <td>53368.0</td>\n",
       "      <td>62107.0</td>\n",
       "    </tr>\n",
       "    <tr>\n",
       "      <th>3</th>\n",
       "      <td>UT Arlington</td>\n",
       "      <td>Information Science/Studies</td>\n",
       "      <td>54515.0</td>\n",
       "      <td>75717.0</td>\n",
       "      <td>NaN</td>\n",
       "    </tr>\n",
       "    <tr>\n",
       "      <th>4</th>\n",
       "      <td>UT Arlington</td>\n",
       "      <td>Computer Science</td>\n",
       "      <td>72212.0</td>\n",
       "      <td>91598.0</td>\n",
       "      <td>104794.0</td>\n",
       "    </tr>\n",
       "  </tbody>\n",
       "</table>\n",
       "</div>"
      ],
      "text/plain": [
       "      inst_name                    CIP6Title  Year1Wage_Median  \\\n",
       "0  UT Arlington        Environmental Science           37991.0   \n",
       "1  UT Arlington                 Architecture           42205.0   \n",
       "2  UT Arlington        Interior Architecture           39525.0   \n",
       "3  UT Arlington  Information Science/Studies           54515.0   \n",
       "4  UT Arlington             Computer Science           72212.0   \n",
       "\n",
       "   Year5Wage_Median  Year10Wage_Median  \n",
       "0               NaN                NaN  \n",
       "1           60935.0            74148.0  \n",
       "2           53368.0            62107.0  \n",
       "3           75717.0                NaN  \n",
       "4           91598.0           104794.0  "
      ]
     },
     "execution_count": 5,
     "metadata": {},
     "output_type": "execute_result"
    }
   ],
   "source": [
    "# use df_median for the 1st visualization (line graph)\n",
    "df_median = df[['inst_name', 'CIP6Title',\n",
    "                'Year1Wage_Median', 'Year5Wage_Median', 'Year10Wage_Median']]\n",
    "\n",
    "df_median.head()"
   ]
  },
  {
   "cell_type": "code",
   "execution_count": 6,
   "metadata": {},
   "outputs": [
    {
     "data": {
      "text/html": [
       "<div>\n",
       "<style scoped>\n",
       "    .dataframe tbody tr th:only-of-type {\n",
       "        vertical-align: middle;\n",
       "    }\n",
       "\n",
       "    .dataframe tbody tr th {\n",
       "        vertical-align: top;\n",
       "    }\n",
       "\n",
       "    .dataframe thead th {\n",
       "        text-align: right;\n",
       "    }\n",
       "</style>\n",
       "<table border=\"1\" class=\"dataframe\">\n",
       "  <thead>\n",
       "    <tr style=\"text-align: right;\">\n",
       "      <th></th>\n",
       "      <th>inst_name</th>\n",
       "      <th>CIP6Title</th>\n",
       "      <th>Year1Wage_Median</th>\n",
       "      <th>Year5Wage_Median</th>\n",
       "      <th>Year10Wage_Median</th>\n",
       "    </tr>\n",
       "  </thead>\n",
       "  <tbody>\n",
       "    <tr>\n",
       "      <th>0</th>\n",
       "      <td>UT Arlington</td>\n",
       "      <td>Environmental Science</td>\n",
       "      <td>37991.0</td>\n",
       "      <td>NaN</td>\n",
       "      <td>NaN</td>\n",
       "    </tr>\n",
       "    <tr>\n",
       "      <th>1</th>\n",
       "      <td>UT Arlington</td>\n",
       "      <td>Architecture</td>\n",
       "      <td>42205.0</td>\n",
       "      <td>60935.0</td>\n",
       "      <td>74148.0</td>\n",
       "    </tr>\n",
       "    <tr>\n",
       "      <th>2</th>\n",
       "      <td>UT Arlington</td>\n",
       "      <td>Interior Architecture</td>\n",
       "      <td>39525.0</td>\n",
       "      <td>53368.0</td>\n",
       "      <td>62107.0</td>\n",
       "    </tr>\n",
       "    <tr>\n",
       "      <th>3</th>\n",
       "      <td>UT Arlington</td>\n",
       "      <td>Information Science/Studies</td>\n",
       "      <td>54515.0</td>\n",
       "      <td>75717.0</td>\n",
       "      <td>NaN</td>\n",
       "    </tr>\n",
       "    <tr>\n",
       "      <th>4</th>\n",
       "      <td>UT Arlington</td>\n",
       "      <td>Computer Science</td>\n",
       "      <td>72212.0</td>\n",
       "      <td>91598.0</td>\n",
       "      <td>104794.0</td>\n",
       "    </tr>\n",
       "    <tr>\n",
       "      <th>...</th>\n",
       "      <td>...</td>\n",
       "      <td>...</td>\n",
       "      <td>...</td>\n",
       "      <td>...</td>\n",
       "      <td>...</td>\n",
       "    </tr>\n",
       "    <tr>\n",
       "      <th>8</th>\n",
       "      <td>UT Permian Basin</td>\n",
       "      <td>NaN</td>\n",
       "      <td>48747.5</td>\n",
       "      <td>55339.0</td>\n",
       "      <td>62192.5</td>\n",
       "    </tr>\n",
       "    <tr>\n",
       "      <th>9</th>\n",
       "      <td>UT Rio Grande Valley</td>\n",
       "      <td>NaN</td>\n",
       "      <td>32839.0</td>\n",
       "      <td>50159.0</td>\n",
       "      <td>55327.0</td>\n",
       "    </tr>\n",
       "    <tr>\n",
       "      <th>10</th>\n",
       "      <td>UT San Antonio</td>\n",
       "      <td>NaN</td>\n",
       "      <td>37372.0</td>\n",
       "      <td>54082.0</td>\n",
       "      <td>60897.0</td>\n",
       "    </tr>\n",
       "    <tr>\n",
       "      <th>11</th>\n",
       "      <td>UT Southwestern Medical Center</td>\n",
       "      <td>NaN</td>\n",
       "      <td>NaN</td>\n",
       "      <td>77977.0</td>\n",
       "      <td>NaN</td>\n",
       "    </tr>\n",
       "    <tr>\n",
       "      <th>12</th>\n",
       "      <td>UT Tyler</td>\n",
       "      <td>NaN</td>\n",
       "      <td>36521.0</td>\n",
       "      <td>52448.0</td>\n",
       "      <td>62520.0</td>\n",
       "    </tr>\n",
       "  </tbody>\n",
       "</table>\n",
       "<p>492 rows × 5 columns</p>\n",
       "</div>"
      ],
      "text/plain": [
       "                         inst_name                    CIP6Title  \\\n",
       "0                     UT Arlington        Environmental Science   \n",
       "1                     UT Arlington                 Architecture   \n",
       "2                     UT Arlington        Interior Architecture   \n",
       "3                     UT Arlington  Information Science/Studies   \n",
       "4                     UT Arlington             Computer Science   \n",
       "..                             ...                          ...   \n",
       "8                 UT Permian Basin                          NaN   \n",
       "9             UT Rio Grande Valley                          NaN   \n",
       "10                  UT San Antonio                          NaN   \n",
       "11  UT Southwestern Medical Center                          NaN   \n",
       "12                        UT Tyler                          NaN   \n",
       "\n",
       "    Year1Wage_Median  Year5Wage_Median  Year10Wage_Median  \n",
       "0            37991.0               NaN                NaN  \n",
       "1            42205.0           60935.0            74148.0  \n",
       "2            39525.0           53368.0            62107.0  \n",
       "3            54515.0           75717.0                NaN  \n",
       "4            72212.0           91598.0           104794.0  \n",
       "..               ...               ...                ...  \n",
       "8            48747.5           55339.0            62192.5  \n",
       "9            32839.0           50159.0            55327.0  \n",
       "10           37372.0           54082.0            60897.0  \n",
       "11               NaN           77977.0                NaN  \n",
       "12           36521.0           52448.0            62520.0  \n",
       "\n",
       "[492 rows x 5 columns]"
      ]
     },
     "execution_count": 6,
     "metadata": {},
     "output_type": "execute_result"
    }
   ],
   "source": [
    "# add new records for each institution for each year's median values (summary_df) to df_median\n",
    "df_median = df_median.append(summary_df)\n",
    "df_median"
   ]
  },
  {
   "cell_type": "markdown",
   "metadata": {},
   "source": [
    "Note that the rows with CIP6Title as NaN are the summary ones with the median earnings for each institution."
   ]
  },
  {
   "cell_type": "code",
   "execution_count": 9,
   "metadata": {},
   "outputs": [
    {
     "data": {
      "text/html": [
       "<div>\n",
       "<style scoped>\n",
       "    .dataframe tbody tr th:only-of-type {\n",
       "        vertical-align: middle;\n",
       "    }\n",
       "\n",
       "    .dataframe tbody tr th {\n",
       "        vertical-align: top;\n",
       "    }\n",
       "\n",
       "    .dataframe thead th {\n",
       "        text-align: right;\n",
       "    }\n",
       "</style>\n",
       "<table border=\"1\" class=\"dataframe\">\n",
       "  <thead>\n",
       "    <tr style=\"text-align: right;\">\n",
       "      <th></th>\n",
       "      <th>inst_name</th>\n",
       "      <th>CIP6Title</th>\n",
       "      <th>Year1Wage_Median</th>\n",
       "      <th>Year5Wage_Median</th>\n",
       "      <th>Year10Wage_Median</th>\n",
       "    </tr>\n",
       "  </thead>\n",
       "  <tbody>\n",
       "    <tr>\n",
       "      <th>596</th>\n",
       "      <td>UT El Paso</td>\n",
       "      <td>Music Performance, General</td>\n",
       "      <td>20952.0</td>\n",
       "      <td>NaN</td>\n",
       "      <td>53003.0</td>\n",
       "    </tr>\n",
       "  </tbody>\n",
       "</table>\n",
       "</div>"
      ],
      "text/plain": [
       "      inst_name                   CIP6Title  Year1Wage_Median  \\\n",
       "596  UT El Paso  Music Performance, General           20952.0   \n",
       "\n",
       "     Year5Wage_Median  Year10Wage_Median  \n",
       "596               NaN            53003.0  "
      ]
     },
     "execution_count": 9,
     "metadata": {},
     "output_type": "execute_result"
    }
   ],
   "source": [
    "df_median [ (df_median['Year1Wage_Median'].notna()) & (df_median['Year10Wage_Median'].notna()) & (df_median['Year5Wage_Median'].isna())]"
   ]
  },
  {
   "cell_type": "code",
   "execution_count": null,
   "metadata": {},
   "outputs": [],
   "source": [
    "# there are some NAs\n",
    "print (len( df_median[ df_median['Year1Wage_Median'].isna() ]) )\n",
    "print (len( df_median[ df_median['Year5Wage_Median'].isna() ]))\n",
    "print (len( df_median[ df_median['Year10Wage_Median'].isna() ]))"
   ]
  },
  {
   "cell_type": "code",
   "execution_count": null,
   "metadata": {},
   "outputs": [],
   "source": [
    "df_median = pd.melt(df_median, id_vars=['inst_name', 'CIP6Title'], \n",
    "                    value_vars=['Year1Wage_Median', 'Year5Wage_Median', 'Year10Wage_Median'])"
   ]
  },
  {
   "cell_type": "code",
   "execution_count": null,
   "metadata": {},
   "outputs": [],
   "source": [
    "df_median.head()"
   ]
  },
  {
   "cell_type": "code",
   "execution_count": null,
   "metadata": {},
   "outputs": [],
   "source": []
  },
  {
   "cell_type": "code",
   "execution_count": null,
   "metadata": {},
   "outputs": [],
   "source": [
    "df_austin = df_median [ df_median['inst_name'] == 'UT Austin' ]\n",
    "len(df_austin['CIP6Title'].unique())"
   ]
  },
  {
   "cell_type": "code",
   "execution_count": null,
   "metadata": {},
   "outputs": [],
   "source": [
    "# sample to show the graph\n",
    "df_sample = df_austin[ (df_austin['CIP6Title'].isin(['Architecture', 'Accounting', 'Public Health, General']) ) ].reset_index(drop=True)\n",
    "df_sample"
   ]
  },
  {
   "cell_type": "code",
   "execution_count": null,
   "metadata": {},
   "outputs": [],
   "source": [
    "# convert year 1 wage to just a number of 1... make it continuous?\n",
    "\n",
    "for i in range(0, len(df_sample)):\n",
    "    if df_sample.loc[i, 'variable'] == 'Year1Wage_Median':\n",
    "        df_sample.loc[i, 'variable'] = 1\n",
    "    elif df_sample.loc[i, 'variable'] == 'Year5Wage_Median':\n",
    "        df_sample.loc[i, 'variable'] = 5\n",
    "    else:\n",
    "        df_sample.loc[i, 'variable'] = 10\n",
    "    \n",
    "df_sample"
   ]
  },
  {
   "cell_type": "code",
   "execution_count": null,
   "metadata": {},
   "outputs": [],
   "source": [
    "alt.Chart(df_sample).mark_line(point = True).encode(\n",
    "    x='variable',\n",
    "    y='value:Q',\n",
    "    color='CIP6Title:N'\n",
    ").properties(width = 300)\n"
   ]
  },
  {
   "cell_type": "code",
   "execution_count": null,
   "metadata": {},
   "outputs": [],
   "source": []
  }
 ],
 "metadata": {
  "kernelspec": {
   "display_name": "Python 3",
   "language": "python",
   "name": "python3"
  },
  "language_info": {
   "codemirror_mode": {
    "name": "ipython",
    "version": 3
   },
   "file_extension": ".py",
   "mimetype": "text/x-python",
   "name": "python",
   "nbconvert_exporter": "python",
   "pygments_lexer": "ipython3",
   "version": "3.8.5"
  }
 },
 "nbformat": 4,
 "nbformat_minor": 4
}
